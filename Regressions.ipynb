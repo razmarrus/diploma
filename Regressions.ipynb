{
 "cells": [
  {
   "cell_type": "markdown",
   "metadata": {},
   "source": [
    "# Regressions"
   ]
  },
  {
   "cell_type": "code",
   "execution_count": 1,
   "metadata": {},
   "outputs": [
    {
     "name": "stdout",
     "output_type": "stream",
     "text": [
      "Populating the interactive namespace from numpy and matplotlib\n"
     ]
    },
    {
     "name": "stderr",
     "output_type": "stream",
     "text": [
      "D:\\apps\\anaconda\\lib\\site-packages\\IPython\\core\\magics\\pylab.py:159: UserWarning: pylab import has clobbered these variables: ['MO']\n",
      "`%matplotlib` prevents importing * from pylab and numpy\n",
      "  warn(\"pylab import has clobbered these variables: %s\"  % clobbered +\n"
     ]
    }
   ],
   "source": [
    "import time\n",
    "import datetime\n",
    "import bz2\n",
    "from dateutil.relativedelta import relativedelta, MO\n",
    "\n",
    "from sklearn.linear_model import LogisticRegression\n",
    "from sklearn.metrics import roc_auc_score\n",
    "from sklearn.model_selection import KFold\n",
    "from sklearn.model_selection import cross_val_score\n",
    "from sklearn.preprocessing import StandardScaler\n",
    "from sklearn.metrics import accuracy_score\n",
    "from sklearn.metrics import precision_score\n",
    "from sklearn.metrics import recall_score\n",
    "\n",
    "from sklearn.model_selection import TimeSeriesSplit\n",
    "import sklearn.metrics as metrics\n",
    "from sklearn.model_selection import GridSearchCV\n",
    "\n",
    "import pandas as pd\n",
    "import numpy as np\n",
    "import matplotlib.pyplot as plt\n",
    "%matplotlib inline\n",
    "%pylab inline"
   ]
  },
  {
   "cell_type": "code",
   "execution_count": 2,
   "metadata": {},
   "outputs": [
    {
     "data": {
      "text/html": [
       "<div>\n",
       "<style scoped>\n",
       "    .dataframe tbody tr th:only-of-type {\n",
       "        vertical-align: middle;\n",
       "    }\n",
       "\n",
       "    .dataframe tbody tr th {\n",
       "        vertical-align: top;\n",
       "    }\n",
       "\n",
       "    .dataframe thead th {\n",
       "        text-align: right;\n",
       "    }\n",
       "</style>\n",
       "<table border=\"1\" class=\"dataframe\">\n",
       "  <thead>\n",
       "    <tr style=\"text-align: right;\">\n",
       "      <th></th>\n",
       "      <th>close</th>\n",
       "      <th>close_change</th>\n",
       "      <th>open</th>\n",
       "      <th>high</th>\n",
       "      <th>low</th>\n",
       "      <th>volume</th>\n",
       "      <th>bb_bbh</th>\n",
       "      <th>bb_bbl</th>\n",
       "      <th>bb_bbm</th>\n",
       "      <th>ATR_10</th>\n",
       "      <th>...</th>\n",
       "      <th>ROCI_40</th>\n",
       "      <th>ROCI_60</th>\n",
       "      <th>ROCI_120</th>\n",
       "      <th>Vortex_diff</th>\n",
       "      <th>Vortex_neg</th>\n",
       "      <th>Vortex_pos</th>\n",
       "      <th>ichimoku_a</th>\n",
       "      <th>ichimoku_b</th>\n",
       "      <th>ichimoku_bl</th>\n",
       "      <th>ichimoku_cl</th>\n",
       "    </tr>\n",
       "    <tr>\n",
       "      <th>date</th>\n",
       "      <th></th>\n",
       "      <th></th>\n",
       "      <th></th>\n",
       "      <th></th>\n",
       "      <th></th>\n",
       "      <th></th>\n",
       "      <th></th>\n",
       "      <th></th>\n",
       "      <th></th>\n",
       "      <th></th>\n",
       "      <th></th>\n",
       "      <th></th>\n",
       "      <th></th>\n",
       "      <th></th>\n",
       "      <th></th>\n",
       "      <th></th>\n",
       "      <th></th>\n",
       "      <th></th>\n",
       "      <th></th>\n",
       "      <th></th>\n",
       "      <th></th>\n",
       "    </tr>\n",
       "  </thead>\n",
       "  <tbody>\n",
       "    <tr>\n",
       "      <th>2015-01-19</th>\n",
       "      <td>1.15947</td>\n",
       "      <td>1</td>\n",
       "      <td>1.15614</td>\n",
       "      <td>1.16388</td>\n",
       "      <td>1.15514</td>\n",
       "      <td>141004</td>\n",
       "      <td>1.225656</td>\n",
       "      <td>1.149432</td>\n",
       "      <td>1.187544</td>\n",
       "      <td>0.009608</td>\n",
       "      <td>...</td>\n",
       "      <td>0.000000</td>\n",
       "      <td>0.000000</td>\n",
       "      <td>0.000000</td>\n",
       "      <td>-0.412351</td>\n",
       "      <td>0.876489</td>\n",
       "      <td>0.464137</td>\n",
       "      <td>1.175315</td>\n",
       "      <td>1.18409</td>\n",
       "      <td>1.184090</td>\n",
       "      <td>1.166540</td>\n",
       "    </tr>\n",
       "    <tr>\n",
       "      <th>2015-06-08</th>\n",
       "      <td>1.12800</td>\n",
       "      <td>1</td>\n",
       "      <td>1.11023</td>\n",
       "      <td>1.13068</td>\n",
       "      <td>1.10842</td>\n",
       "      <td>220017</td>\n",
       "      <td>1.139031</td>\n",
       "      <td>1.079038</td>\n",
       "      <td>1.109034</td>\n",
       "      <td>0.014026</td>\n",
       "      <td>...</td>\n",
       "      <td>5.179729</td>\n",
       "      <td>4.162819</td>\n",
       "      <td>-2.714171</td>\n",
       "      <td>0.011417</td>\n",
       "      <td>0.978159</td>\n",
       "      <td>0.989576</td>\n",
       "      <td>1.113830</td>\n",
       "      <td>1.09936</td>\n",
       "      <td>1.114305</td>\n",
       "      <td>1.113355</td>\n",
       "    </tr>\n",
       "    <tr>\n",
       "      <th>2015-06-09</th>\n",
       "      <td>1.12926</td>\n",
       "      <td>1</td>\n",
       "      <td>1.12802</td>\n",
       "      <td>1.13454</td>\n",
       "      <td>1.12140</td>\n",
       "      <td>224134</td>\n",
       "      <td>1.135281</td>\n",
       "      <td>1.081274</td>\n",
       "      <td>1.108277</td>\n",
       "      <td>0.013938</td>\n",
       "      <td>...</td>\n",
       "      <td>4.427676</td>\n",
       "      <td>5.162876</td>\n",
       "      <td>-2.189617</td>\n",
       "      <td>0.071010</td>\n",
       "      <td>0.967493</td>\n",
       "      <td>1.038503</td>\n",
       "      <td>1.113830</td>\n",
       "      <td>1.09936</td>\n",
       "      <td>1.114305</td>\n",
       "      <td>1.113355</td>\n",
       "    </tr>\n",
       "    <tr>\n",
       "      <th>2015-06-10</th>\n",
       "      <td>1.13099</td>\n",
       "      <td>1</td>\n",
       "      <td>1.12926</td>\n",
       "      <td>1.13865</td>\n",
       "      <td>1.12600</td>\n",
       "      <td>246733</td>\n",
       "      <td>1.134962</td>\n",
       "      <td>1.081451</td>\n",
       "      <td>1.108207</td>\n",
       "      <td>0.013809</td>\n",
       "      <td>...</td>\n",
       "      <td>4.041175</td>\n",
       "      <td>5.017875</td>\n",
       "      <td>-2.624261</td>\n",
       "      <td>0.027184</td>\n",
       "      <td>0.995233</td>\n",
       "      <td>1.022417</td>\n",
       "      <td>1.113997</td>\n",
       "      <td>1.09936</td>\n",
       "      <td>1.114305</td>\n",
       "      <td>1.113690</td>\n",
       "    </tr>\n",
       "    <tr>\n",
       "      <th>2015-06-11</th>\n",
       "      <td>1.12458</td>\n",
       "      <td>0</td>\n",
       "      <td>1.13099</td>\n",
       "      <td>1.13315</td>\n",
       "      <td>1.11820</td>\n",
       "      <td>203152</td>\n",
       "      <td>1.136311</td>\n",
       "      <td>1.081135</td>\n",
       "      <td>1.108723</td>\n",
       "      <td>0.013923</td>\n",
       "      <td>...</td>\n",
       "      <td>3.500069</td>\n",
       "      <td>3.460077</td>\n",
       "      <td>-0.889245</td>\n",
       "      <td>-0.028576</td>\n",
       "      <td>1.015807</td>\n",
       "      <td>0.987231</td>\n",
       "      <td>1.114712</td>\n",
       "      <td>1.09936</td>\n",
       "      <td>1.114305</td>\n",
       "      <td>1.115120</td>\n",
       "    </tr>\n",
       "  </tbody>\n",
       "</table>\n",
       "<p>5 rows × 26 columns</p>\n",
       "</div>"
      ],
      "text/plain": [
       "              close  close_change     open     high      low  volume  \\\n",
       "date                                                                   \n",
       "2015-01-19  1.15947             1  1.15614  1.16388  1.15514  141004   \n",
       "2015-06-08  1.12800             1  1.11023  1.13068  1.10842  220017   \n",
       "2015-06-09  1.12926             1  1.12802  1.13454  1.12140  224134   \n",
       "2015-06-10  1.13099             1  1.12926  1.13865  1.12600  246733   \n",
       "2015-06-11  1.12458             0  1.13099  1.13315  1.11820  203152   \n",
       "\n",
       "              bb_bbh    bb_bbl    bb_bbm    ATR_10  ...   ROCI_40   ROCI_60  \\\n",
       "date                                                ...                       \n",
       "2015-01-19  1.225656  1.149432  1.187544  0.009608  ...  0.000000  0.000000   \n",
       "2015-06-08  1.139031  1.079038  1.109034  0.014026  ...  5.179729  4.162819   \n",
       "2015-06-09  1.135281  1.081274  1.108277  0.013938  ...  4.427676  5.162876   \n",
       "2015-06-10  1.134962  1.081451  1.108207  0.013809  ...  4.041175  5.017875   \n",
       "2015-06-11  1.136311  1.081135  1.108723  0.013923  ...  3.500069  3.460077   \n",
       "\n",
       "            ROCI_120  Vortex_diff  Vortex_neg  Vortex_pos  ichimoku_a  \\\n",
       "date                                                                    \n",
       "2015-01-19  0.000000    -0.412351    0.876489    0.464137    1.175315   \n",
       "2015-06-08 -2.714171     0.011417    0.978159    0.989576    1.113830   \n",
       "2015-06-09 -2.189617     0.071010    0.967493    1.038503    1.113830   \n",
       "2015-06-10 -2.624261     0.027184    0.995233    1.022417    1.113997   \n",
       "2015-06-11 -0.889245    -0.028576    1.015807    0.987231    1.114712   \n",
       "\n",
       "            ichimoku_b  ichimoku_bl  ichimoku_cl  \n",
       "date                                              \n",
       "2015-01-19     1.18409     1.184090     1.166540  \n",
       "2015-06-08     1.09936     1.114305     1.113355  \n",
       "2015-06-09     1.09936     1.114305     1.113355  \n",
       "2015-06-10     1.09936     1.114305     1.113690  \n",
       "2015-06-11     1.09936     1.114305     1.115120  \n",
       "\n",
       "[5 rows x 26 columns]"
      ]
     },
     "execution_count": 2,
     "metadata": {},
     "output_type": "execute_result"
    }
   ],
   "source": [
    "df = pd.read_csv('data_ML_25_05.csv', index_col=['date'], parse_dates=['date'], dayfirst=True)\n",
    "df.head()"
   ]
  },
  {
   "cell_type": "markdown",
   "metadata": {},
   "source": [
    "## Data preparation"
   ]
  },
  {
   "cell_type": "code",
   "execution_count": 3,
   "metadata": {},
   "outputs": [],
   "source": [
    "def classification_results(y_test, y_pred):    # Classification metrics\n",
    "    #print(\"Kross validation score=\", scores[-1])\n",
    "    #print(\"Mean=\", np.mean(scores[-1]))\n",
    "    \n",
    "    print(\"accuracy\", accuracy_score(y_test, y_pred)) \n",
    "    print(\"precision\", precision_score(y_test,y_pred))\n",
    "    print(\"recall\", recall_score(y_test,y_pred))"
   ]
  },
  {
   "cell_type": "code",
   "execution_count": 4,
   "metadata": {},
   "outputs": [],
   "source": [
    "train_part = int(len(df.close)*0.8)\n",
    "test_part = len(df.close) - train_part\n",
    "#train_part"
   ]
  },
  {
   "cell_type": "code",
   "execution_count": 5,
   "metadata": {},
   "outputs": [],
   "source": [
    "def make_dataset(df, train_part, test_part,d_type =\"test\"):\n",
    "    X = df.copy(deep=True)\n",
    "    X.drop(['close_change', 'close'],axis=1, inplace= True)\n",
    "    if d_type == \"test\":\n",
    "        X.drop(X.index[:train_part],inplace= True)\n",
    "    else : X.drop(X.index[train_part:(train_part+test_part)],inplace= True)\n",
    "    X = StandardScaler().fit_transform(X)\n",
    "    return X"
   ]
  },
  {
   "cell_type": "code",
   "execution_count": 6,
   "metadata": {},
   "outputs": [],
   "source": [
    "X_test = make_dataset(df, train_part, test_part,d_type =\"test\")\n",
    "X_train = make_dataset(df, train_part, test_part,d_type =\"train\")\n",
    "y_train = df['close_change'][:-test_part]\n",
    "y_test = df['close_change'][-test_part:]"
   ]
  },
  {
   "cell_type": "code",
   "execution_count": 7,
   "metadata": {},
   "outputs": [],
   "source": [
    "tscv = TimeSeriesSplit(n_splits=10)"
   ]
  },
  {
   "cell_type": "code",
   "execution_count": 8,
   "metadata": {},
   "outputs": [],
   "source": [
    "def sell(last_deal, revenue, revenue_list, successful_deals, profit, last_price,df,i, train_part):\n",
    "    last_deal = 1 #продажа\n",
    "    revenue = revenue + (df['close'][train_part + i] - last_price)*1000\n",
    "    revenue_list.append(revenue)\n",
    "    if df['close'][train_part + i] > last_price: #если сделка была успешна\n",
    "        successful_deals +=1\n",
    "        profit = profit+(df['close'][train_part + i] - last_price)*1000\n",
    "    last_price = df['close'][train_part + i]\n",
    "    return last_deal, revenue, revenue_list, successful_deals, profit, last_price"
   ]
  },
  {
   "cell_type": "code",
   "execution_count": 9,
   "metadata": {},
   "outputs": [],
   "source": [
    "def buy(last_deal, revenue, revenue_list, successful_deals, profit, last_price,df, i, train_part):\n",
    "    last_deal = 0\n",
    "    revenue = revenue + (last_price - df['close'][train_part + i]) *1000\n",
    "    revenue_list.append(revenue)\n",
    "    if df['close'][train_part + i] < last_price: #если сделка была успешна\n",
    "        successful_deals +=1\n",
    "        profit = profit + (last_price - df['close'][train_part + i])*1000 \n",
    "    last_price = df['close'][train_part + i]\n",
    "    return last_deal, revenue, revenue_list, successful_deals, profit, last_price"
   ]
  },
  {
   "cell_type": "code",
   "execution_count": 10,
   "metadata": {},
   "outputs": [],
   "source": [
    "def trade(df, y_pred, train_part, pred_limit=20):\n",
    "    \n",
    "    profit = 0\n",
    "    revenue = 0\n",
    "    successful_deals = 0\n",
    "    deals_overall = 0\n",
    "    actions_list = []\n",
    "    revenue_list = []\n",
    "    last_price = 0\n",
    "    last_deal = 2\n",
    "    \n",
    "    for i in range(len(y_pred[:pred_limit])):\n",
    "        pred = y_pred[i] \n",
    "        if last_deal == 2:  #смотрим на первое предсказание\n",
    "            last_price = df['close_change'][train_part + i]\n",
    "            if pred == 0:  #если ожидаем, что цена пойдет вверх\n",
    "                last_deal = 1  #последняя сделка - покупка\n",
    "            else: \n",
    "                last_deal = 0\n",
    "        if (last_deal == 0 and pred == 0): #если есть чем торговать (последняя -покупка) и ожидаем уменьшения цены\n",
    "            last_deal, revenue, revenue_list, successful_deals, profit, last_price = sell(last_deal, \n",
    "                                                                                          revenue, revenue_list, successful_deals, profit, last_price, df, i,train_part)\n",
    "            actions_list.append(1)\n",
    "            deals_overall +=1\n",
    "            continue\n",
    "        if (last_deal == 1 and pred == 1):\n",
    "            last_deal, revenue, revenue_list, successful_deals, profit, last_price = buy(last_deal, \n",
    "                                                                                         revenue, revenue_list, successful_deals, profit, last_price, df, i, train_part)\n",
    "            actions_list.append(0)            \n",
    "            deals_overall +=1\n",
    "            continue\n",
    "        actions_list.append(-1)\n",
    "    return revenue, revenue_list, successful_deals, deals_overall, profit, actions_list"
   ]
  },
  {
   "cell_type": "markdown",
   "metadata": {},
   "source": [
    "## Logistic Regression "
   ]
  },
  {
   "cell_type": "code",
   "execution_count": 11,
   "metadata": {},
   "outputs": [],
   "source": [
    "param_search = { \n",
    "    'C' : [0.75 ,0.5, 0.1, 0.01 ,0.005],\n",
    "    'penalty' : ['l2'], # ['l1','l2', 'elasticnet'],\n",
    "    'solver' : ['newton-cg', 'lbfgs', 'liblinear', 'sag', 'saga'],\n",
    "    'max_iter' : [100000]\n",
    "}"
   ]
  },
  {
   "cell_type": "code",
   "execution_count": 12,
   "metadata": {},
   "outputs": [],
   "source": [
    "model = LogisticRegression()\n",
    "gsearch = GridSearchCV(estimator=model, cv=tscv, param_grid=param_search)\n",
    "gsearch.fit(X_train, y_train)\n",
    "best_score = gsearch.best_score_\n",
    "best_model = gsearch.best_estimator_"
   ]
  },
  {
   "cell_type": "code",
   "execution_count": 13,
   "metadata": {},
   "outputs": [
    {
     "data": {
      "text/plain": [
       "{'C': 0.75,\n",
       " 'class_weight': None,\n",
       " 'dual': False,\n",
       " 'fit_intercept': True,\n",
       " 'intercept_scaling': 1,\n",
       " 'l1_ratio': None,\n",
       " 'max_iter': 100000,\n",
       " 'multi_class': 'auto',\n",
       " 'n_jobs': None,\n",
       " 'penalty': 'l2',\n",
       " 'random_state': None,\n",
       " 'solver': 'liblinear',\n",
       " 'tol': 0.0001,\n",
       " 'verbose': 0,\n",
       " 'warm_start': False}"
      ]
     },
     "execution_count": 13,
     "metadata": {},
     "output_type": "execute_result"
    }
   ],
   "source": [
    "best_model.get_params()"
   ]
  },
  {
   "cell_type": "code",
   "execution_count": 14,
   "metadata": {},
   "outputs": [],
   "source": [
    "# scores.append(cross_val_score(estimator=model, X=X_train,y=y_train,cv=cv,scoring=\"roc_auc\"))"
   ]
  },
  {
   "cell_type": "code",
   "execution_count": 15,
   "metadata": {},
   "outputs": [
    {
     "data": {
      "text/plain": [
       "{'C': 0.75,\n",
       " 'class_weight': None,\n",
       " 'dual': False,\n",
       " 'fit_intercept': True,\n",
       " 'intercept_scaling': 1,\n",
       " 'l1_ratio': None,\n",
       " 'max_iter': 100000,\n",
       " 'multi_class': 'auto',\n",
       " 'n_jobs': None,\n",
       " 'penalty': 'l2',\n",
       " 'random_state': None,\n",
       " 'solver': 'liblinear',\n",
       " 'tol': 0.0001,\n",
       " 'verbose': 0,\n",
       " 'warm_start': False}"
      ]
     },
     "execution_count": 15,
     "metadata": {},
     "output_type": "execute_result"
    }
   ],
   "source": [
    "best_model.get_params()"
   ]
  },
  {
   "cell_type": "code",
   "execution_count": 16,
   "metadata": {},
   "outputs": [],
   "source": [
    "#model = LogisticRegression(C=best_C).fit(X_train, y_train)\n",
    "\n",
    "result = best_model.predict_proba(X_test)\n",
    "y_pred =  best_model.predict(X_test)"
   ]
  },
  {
   "cell_type": "code",
   "execution_count": 17,
   "metadata": {},
   "outputs": [
    {
     "data": {
      "text/plain": [
       "count    373.000000\n",
       "mean       0.503592\n",
       "std        0.200047\n",
       "min        0.007537\n",
       "25%        0.369458\n",
       "50%        0.490335\n",
       "75%        0.659884\n",
       "max        0.979387\n",
       "dtype: float64"
      ]
     },
     "execution_count": 17,
     "metadata": {},
     "output_type": "execute_result"
    }
   ],
   "source": [
    "result_pd = pd.Series(result[:, 1])\n",
    "result_pd.describe()"
   ]
  },
  {
   "cell_type": "code",
   "execution_count": 18,
   "metadata": {},
   "outputs": [
    {
     "data": {
      "text/plain": [
       "0.7788978494623656"
      ]
     },
     "execution_count": 18,
     "metadata": {},
     "output_type": "execute_result"
    }
   ],
   "source": [
    "best_model.score(X_train, y_train)"
   ]
  },
  {
   "cell_type": "code",
   "execution_count": 19,
   "metadata": {},
   "outputs": [
    {
     "name": "stdout",
     "output_type": "stream",
     "text": [
      "accuracy 0.7479892761394102\n",
      "precision 0.8089887640449438\n",
      "recall 0.7058823529411765\n"
     ]
    }
   ],
   "source": [
    "#regression_results(y_test, y_pred)\n",
    "print(\"accuracy\", accuracy_score(y_test, y_pred)) \n",
    "print(\"precision\", precision_score(y_test,y_pred))\n",
    "print(\"recall\", recall_score(y_test,y_pred))"
   ]
  },
  {
   "cell_type": "code",
   "execution_count": 20,
   "metadata": {},
   "outputs": [],
   "source": [
    "pred_limit = 80\n",
    "revenue, revenue_list, successful_deals, deals_overall, profit, actions_list = trade(df, y_pred, train_part, pred_limit)"
   ]
  },
  {
   "cell_type": "code",
   "execution_count": 21,
   "metadata": {},
   "outputs": [
    {
     "name": "stdout",
     "output_type": "stream",
     "text": [
      "revenue 1123.22 ;\tprofit 1193.07\n",
      "successful deals 9 ;\toveral dealls: 22\n",
      "% of succsess 40.9091\n",
      "deals were made on  27.5 % of 80 traiding days\n"
     ]
    }
   ],
   "source": [
    "print(\"revenue\", round(revenue,4),\";\\tprofit\", round(profit,4))\n",
    "print(\"successful deals\", successful_deals, \";\\toveral dealls:\", deals_overall)\n",
    "print(\"% of succsess\", round(successful_deals*100/deals_overall,4))\n",
    "print(\"deals were made on \", round(deals_overall*100/len(y_pred[:pred_limit]),4),\"% of\",len(y_pred[:pred_limit]), \"traiding days\")"
   ]
  },
  {
   "cell_type": "code",
   "execution_count": 22,
   "metadata": {},
   "outputs": [],
   "source": [
    "days_plot = []\n",
    "revenue_plot = []\n",
    "success_plot = []\n",
    "deals_overall_plot = []\n",
    "for i in range(10, test_part, 10):\n",
    "    y_pred =  best_model.predict(X_test)\n",
    "    X_train_cycle = make_dataset(df, train_part, i, d_type =\"train\")\n",
    "    y_pred_cycle =  best_model.predict(X_train_cycle)\n",
    "    revenue, revenue_list, successful_deals, deals_overall, profit, actions_list = trade(df, y_pred_cycle, train_part, i)\n",
    "    days_plot.append(i)\n",
    "    revenue_plot.append(revenue)\n",
    "    success_plot.append(round(deals_overall*100/i,2))\n",
    "    deals_overall_plot.append(round(deals_overall*100/i,2))\n",
    "\n",
    "d = {'days': days_plot, 'revunue': revenue_plot, 'proftitable deals %' : success_plot, 'overall deals %' : deals_overall_plot}\n",
    "future = pd.DataFrame(data=d)\n",
    "future.set_index('days', inplace=True)\n",
    "#future"
   ]
  },
  {
   "cell_type": "code",
   "execution_count": 23,
   "metadata": {},
   "outputs": [
    {
     "data": {
      "image/png": "[encoded data removed]",
      "text/plain": [
       "<Figure size 1080x504 with 1 Axes>"
      ]
     },
     "metadata": {
      "needs_background": "light"
     },
     "output_type": "display_data"
    }
   ],
   "source": [
    "plt.figure(figsize(15,7))\n",
    "\n",
    "future['proftitable deals %'].plot()\n",
    "plt.ylabel('profitable deals')\n",
    "plt.title('LR successfull deals percentage')\n",
    "pylab.show()"
   ]
  },
  {
   "cell_type": "code",
   "execution_count": 25,
   "metadata": {},
   "outputs": [
    {
     "data": {
      "image/png": "[encoded data removed]",
      "text/plain": [
       "<Figure size 432x432 with 3 Axes>"
      ]
     },
     "metadata": {
      "needs_background": "light"
     },
     "output_type": "display_data"
    }
   ],
   "source": [
    "#plt.figure(figsize(15,7))\n",
    "#plt.title('Regression putput')\n",
    "future.plot(subplots=True, figsize=(6, 6), title='Regression output');\n"
   ]
  },
  {
   "cell_type": "code",
   "execution_count": null,
   "metadata": {},
   "outputs": [],
   "source": []
  }
 ],
 "metadata": {
  "kernelspec": {
   "display_name": "Python 3",
   "language": "python",
   "name": "python3"
  },
  "language_info": {
   "codemirror_mode": {
    "name": "ipython",
    "version": 3
   },
   "file_extension": ".py",
   "mimetype": "text/x-python",
   "name": "python",
   "nbconvert_exporter": "python",
   "pygments_lexer": "ipython3",
   "version": "3.8.5"
  }
 },
 "nbformat": 4,
 "nbformat_minor": 4
}
