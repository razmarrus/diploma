{
 "cells": [
  {
   "cell_type": "markdown",
   "metadata": {},
   "source": [
    "# Ensembles"
   ]
  },
  {
   "cell_type": "code",
   "execution_count": 1,
   "metadata": {},
   "outputs": [
    {
     "name": "stdout",
     "output_type": "stream",
     "text": [
      "Populating the interactive namespace from numpy and matplotlib\n"
     ]
    }
   ],
   "source": [
    "import time\n",
    "import datetime\n",
    "import bz2\n",
    "\n",
    "from sklearn.ensemble import GradientBoostingRegressor\n",
    "from sklearn.metrics import roc_auc_score\n",
    "from sklearn.model_selection import KFold\n",
    "from sklearn.model_selection import cross_val_score\n",
    "from sklearn.preprocessing import StandardScaler\n",
    "from sklearn.model_selection import GridSearchCV\n",
    "from sklearn.model_selection import TimeSeriesSplit\n",
    "import sklearn.metrics as metrics\n",
    "from sklearn.metrics import make_scorer\n",
    "\n",
    "import pandas as pd\n",
    "import numpy as np\n",
    "import matplotlib.pyplot as plt\n",
    "%matplotlib inline\n",
    "%pylab inline"
   ]
  },
  {
   "cell_type": "markdown",
   "metadata": {},
   "source": [
    "## Data preparation and overall functions"
   ]
  },
  {
   "cell_type": "code",
   "execution_count": 2,
   "metadata": {},
   "outputs": [
    {
     "data": {
      "text/html": [
       "<div>\n",
       "<style scoped>\n",
       "    .dataframe tbody tr th:only-of-type {\n",
       "        vertical-align: middle;\n",
       "    }\n",
       "\n",
       "    .dataframe tbody tr th {\n",
       "        vertical-align: top;\n",
       "    }\n",
       "\n",
       "    .dataframe thead th {\n",
       "        text-align: right;\n",
       "    }\n",
       "</style>\n",
       "<table border=\"1\" class=\"dataframe\">\n",
       "  <thead>\n",
       "    <tr style=\"text-align: right;\">\n",
       "      <th></th>\n",
       "      <th>close</th>\n",
       "      <th>close_change</th>\n",
       "      <th>open</th>\n",
       "      <th>high</th>\n",
       "      <th>low</th>\n",
       "      <th>volume</th>\n",
       "      <th>bb_bbh</th>\n",
       "      <th>bb_bbl</th>\n",
       "      <th>bb_bbm</th>\n",
       "      <th>ATR_10</th>\n",
       "      <th>...</th>\n",
       "      <th>ROCI_40</th>\n",
       "      <th>ROCI_60</th>\n",
       "      <th>ROCI_120</th>\n",
       "      <th>Vortex_diff</th>\n",
       "      <th>Vortex_neg</th>\n",
       "      <th>Vortex_pos</th>\n",
       "      <th>ichimoku_a</th>\n",
       "      <th>ichimoku_b</th>\n",
       "      <th>ichimoku_bl</th>\n",
       "      <th>ichimoku_cl</th>\n",
       "    </tr>\n",
       "    <tr>\n",
       "      <th>date</th>\n",
       "      <th></th>\n",
       "      <th></th>\n",
       "      <th></th>\n",
       "      <th></th>\n",
       "      <th></th>\n",
       "      <th></th>\n",
       "      <th></th>\n",
       "      <th></th>\n",
       "      <th></th>\n",
       "      <th></th>\n",
       "      <th></th>\n",
       "      <th></th>\n",
       "      <th></th>\n",
       "      <th></th>\n",
       "      <th></th>\n",
       "      <th></th>\n",
       "      <th></th>\n",
       "      <th></th>\n",
       "      <th></th>\n",
       "      <th></th>\n",
       "      <th></th>\n",
       "    </tr>\n",
       "  </thead>\n",
       "  <tbody>\n",
       "    <tr>\n",
       "      <th>2015-01-19</th>\n",
       "      <td>1.15947</td>\n",
       "      <td>1</td>\n",
       "      <td>1.15614</td>\n",
       "      <td>1.16388</td>\n",
       "      <td>1.15514</td>\n",
       "      <td>141004</td>\n",
       "      <td>1.225656</td>\n",
       "      <td>1.149432</td>\n",
       "      <td>1.187544</td>\n",
       "      <td>0.009608</td>\n",
       "      <td>...</td>\n",
       "      <td>0.000000</td>\n",
       "      <td>0.000000</td>\n",
       "      <td>0.000000</td>\n",
       "      <td>-0.412351</td>\n",
       "      <td>0.876489</td>\n",
       "      <td>0.464137</td>\n",
       "      <td>1.175315</td>\n",
       "      <td>1.18409</td>\n",
       "      <td>1.184090</td>\n",
       "      <td>1.166540</td>\n",
       "    </tr>\n",
       "    <tr>\n",
       "      <th>2015-06-08</th>\n",
       "      <td>1.12800</td>\n",
       "      <td>1</td>\n",
       "      <td>1.11023</td>\n",
       "      <td>1.13068</td>\n",
       "      <td>1.10842</td>\n",
       "      <td>220017</td>\n",
       "      <td>1.139031</td>\n",
       "      <td>1.079038</td>\n",
       "      <td>1.109034</td>\n",
       "      <td>0.014026</td>\n",
       "      <td>...</td>\n",
       "      <td>5.179729</td>\n",
       "      <td>4.162819</td>\n",
       "      <td>-2.714171</td>\n",
       "      <td>0.011417</td>\n",
       "      <td>0.978159</td>\n",
       "      <td>0.989576</td>\n",
       "      <td>1.113830</td>\n",
       "      <td>1.09936</td>\n",
       "      <td>1.114305</td>\n",
       "      <td>1.113355</td>\n",
       "    </tr>\n",
       "    <tr>\n",
       "      <th>2015-06-09</th>\n",
       "      <td>1.12926</td>\n",
       "      <td>1</td>\n",
       "      <td>1.12802</td>\n",
       "      <td>1.13454</td>\n",
       "      <td>1.12140</td>\n",
       "      <td>224134</td>\n",
       "      <td>1.135281</td>\n",
       "      <td>1.081274</td>\n",
       "      <td>1.108277</td>\n",
       "      <td>0.013938</td>\n",
       "      <td>...</td>\n",
       "      <td>4.427676</td>\n",
       "      <td>5.162876</td>\n",
       "      <td>-2.189617</td>\n",
       "      <td>0.071010</td>\n",
       "      <td>0.967493</td>\n",
       "      <td>1.038503</td>\n",
       "      <td>1.113830</td>\n",
       "      <td>1.09936</td>\n",
       "      <td>1.114305</td>\n",
       "      <td>1.113355</td>\n",
       "    </tr>\n",
       "    <tr>\n",
       "      <th>2015-06-10</th>\n",
       "      <td>1.13099</td>\n",
       "      <td>1</td>\n",
       "      <td>1.12926</td>\n",
       "      <td>1.13865</td>\n",
       "      <td>1.12600</td>\n",
       "      <td>246733</td>\n",
       "      <td>1.134962</td>\n",
       "      <td>1.081451</td>\n",
       "      <td>1.108207</td>\n",
       "      <td>0.013809</td>\n",
       "      <td>...</td>\n",
       "      <td>4.041175</td>\n",
       "      <td>5.017875</td>\n",
       "      <td>-2.624261</td>\n",
       "      <td>0.027184</td>\n",
       "      <td>0.995233</td>\n",
       "      <td>1.022417</td>\n",
       "      <td>1.113997</td>\n",
       "      <td>1.09936</td>\n",
       "      <td>1.114305</td>\n",
       "      <td>1.113690</td>\n",
       "    </tr>\n",
       "    <tr>\n",
       "      <th>2015-06-11</th>\n",
       "      <td>1.12458</td>\n",
       "      <td>0</td>\n",
       "      <td>1.13099</td>\n",
       "      <td>1.13315</td>\n",
       "      <td>1.11820</td>\n",
       "      <td>203152</td>\n",
       "      <td>1.136311</td>\n",
       "      <td>1.081135</td>\n",
       "      <td>1.108723</td>\n",
       "      <td>0.013923</td>\n",
       "      <td>...</td>\n",
       "      <td>3.500069</td>\n",
       "      <td>3.460077</td>\n",
       "      <td>-0.889245</td>\n",
       "      <td>-0.028576</td>\n",
       "      <td>1.015807</td>\n",
       "      <td>0.987231</td>\n",
       "      <td>1.114712</td>\n",
       "      <td>1.09936</td>\n",
       "      <td>1.114305</td>\n",
       "      <td>1.115120</td>\n",
       "    </tr>\n",
       "  </tbody>\n",
       "</table>\n",
       "<p>5 rows × 26 columns</p>\n",
       "</div>"
      ],
      "text/plain": [
       "              close  close_change     open     high      low  volume  \\\n",
       "date                                                                   \n",
       "2015-01-19  1.15947             1  1.15614  1.16388  1.15514  141004   \n",
       "2015-06-08  1.12800             1  1.11023  1.13068  1.10842  220017   \n",
       "2015-06-09  1.12926             1  1.12802  1.13454  1.12140  224134   \n",
       "2015-06-10  1.13099             1  1.12926  1.13865  1.12600  246733   \n",
       "2015-06-11  1.12458             0  1.13099  1.13315  1.11820  203152   \n",
       "\n",
       "              bb_bbh    bb_bbl    bb_bbm    ATR_10  ...   ROCI_40   ROCI_60  \\\n",
       "date                                                ...                       \n",
       "2015-01-19  1.225656  1.149432  1.187544  0.009608  ...  0.000000  0.000000   \n",
       "2015-06-08  1.139031  1.079038  1.109034  0.014026  ...  5.179729  4.162819   \n",
       "2015-06-09  1.135281  1.081274  1.108277  0.013938  ...  4.427676  5.162876   \n",
       "2015-06-10  1.134962  1.081451  1.108207  0.013809  ...  4.041175  5.017875   \n",
       "2015-06-11  1.136311  1.081135  1.108723  0.013923  ...  3.500069  3.460077   \n",
       "\n",
       "            ROCI_120  Vortex_diff  Vortex_neg  Vortex_pos  ichimoku_a  \\\n",
       "date                                                                    \n",
       "2015-01-19  0.000000    -0.412351    0.876489    0.464137    1.175315   \n",
       "2015-06-08 -2.714171     0.011417    0.978159    0.989576    1.113830   \n",
       "2015-06-09 -2.189617     0.071010    0.967493    1.038503    1.113830   \n",
       "2015-06-10 -2.624261     0.027184    0.995233    1.022417    1.113997   \n",
       "2015-06-11 -0.889245    -0.028576    1.015807    0.987231    1.114712   \n",
       "\n",
       "            ichimoku_b  ichimoku_bl  ichimoku_cl  \n",
       "date                                              \n",
       "2015-01-19     1.18409     1.184090     1.166540  \n",
       "2015-06-08     1.09936     1.114305     1.113355  \n",
       "2015-06-09     1.09936     1.114305     1.113355  \n",
       "2015-06-10     1.09936     1.114305     1.113690  \n",
       "2015-06-11     1.09936     1.114305     1.115120  \n",
       "\n",
       "[5 rows x 26 columns]"
      ]
     },
     "execution_count": 2,
     "metadata": {},
     "output_type": "execute_result"
    }
   ],
   "source": [
    "df = pd.read_csv('data_ML_25_05.csv', index_col=['date'], parse_dates=['date'], dayfirst=True)\n",
    "df.head()"
   ]
  },
  {
   "cell_type": "code",
   "execution_count": 3,
   "metadata": {},
   "outputs": [],
   "source": [
    "def regression_results(y_true, y_pred):    # Regression metrics\n",
    "    explained_variance=metrics.explained_variance_score(y_true, y_pred)\n",
    "    mean_absolute_error=metrics.mean_absolute_error(y_true, y_pred) \n",
    "    mse=metrics.mean_squared_error(y_true, y_pred) \n",
    "    mean_squared_log_error=metrics.mean_squared_log_error(y_true, y_pred)\n",
    "    median_absolute_error=metrics.median_absolute_error(y_true, y_pred)\n",
    "    r2=metrics.r2_score(y_true, y_pred)    \n",
    "    print('explained_variance: ', round(explained_variance,4))    \n",
    "    print('mean_squared_log_error: ', round(mean_squared_log_error,4))\n",
    "    print('r2: ', round(r2,4))\n",
    "    print('MAE: ', round(mean_absolute_error,4))\n",
    "    print('MSE: ', round(mse,4))\n",
    "    print('RMSE: ', round(np.sqrt(mse),4))"
   ]
  },
  {
   "cell_type": "code",
   "execution_count": 4,
   "metadata": {},
   "outputs": [],
   "source": [
    "def rmse(actual, predict):\n",
    "    predict = np.array(predict)\n",
    "    actual = np.array(actual)\n",
    "    distance = predict - actual\n",
    "    square_distance = distance ** 2\n",
    "    mean_square_distance = square_distance.mean()\n",
    "    score = np.sqrt(mean_square_distance)\n",
    "    return score\n",
    "\n",
    "rmse_score = make_scorer(rmse, greater_is_better = False)"
   ]
  },
  {
   "cell_type": "code",
   "execution_count": 5,
   "metadata": {},
   "outputs": [],
   "source": [
    "def plot_result(best_model, df): \n",
    "    future = pd.DataFrame(index=date_list)\n",
    "    future['forecast'] = best_model.predict(X_test)\n",
    "\n",
    "    plt.figure(figsize(15,7))\n",
    "    df.close.plot()\n",
    "    future['forecast'].plot(color='r')\n",
    "    plt.ylabel('close_forecast_RF')\n",
    "    pylab.show()"
   ]
  },
  {
   "cell_type": "code",
   "execution_count": 6,
   "metadata": {},
   "outputs": [],
   "source": [
    "train_part = int(len(df.close)*0.8)\n",
    "test_part = len(df.close) - train_part"
   ]
  },
  {
   "cell_type": "code",
   "execution_count": 7,
   "metadata": {},
   "outputs": [],
   "source": [
    "X_train = df.copy(deep=True)\n",
    "X_train.drop(['close_change', 'close'],axis=1, inplace= True)\n",
    "X_train.drop(X_train.index[-test_part:],inplace= True)\n",
    "X_train = StandardScaler().fit_transform(X_train)"
   ]
  },
  {
   "cell_type": "code",
   "execution_count": 8,
   "metadata": {},
   "outputs": [
    {
     "data": {
      "text/plain": [
       "array([[-0.60802169, -0.6392241 , -0.79573485, ..., -1.16783921,\n",
       "        -1.18014729, -0.91020212],\n",
       "       [-0.79778799, -0.77083106, -0.85024771, ..., -1.16783921,\n",
       "        -1.18014729, -0.91020212],\n",
       "       [-0.9143619 , -0.84542337, -1.27909684, ..., -1.16783921,\n",
       "        -1.18014729, -0.88886163],\n",
       "       ...,\n",
       "       [ 1.06227773,  1.03651121,  1.07484747, ...,  0.77669348,\n",
       "         0.96489259,  1.02099866],\n",
       "       [ 1.07651577,  1.18344228,  1.1352952 , ...,  0.83989109,\n",
       "         1.02562642,  1.08047959],\n",
       "       [ 1.22423538,  1.20868197,  1.23816623, ...,  0.85339898,\n",
       "         1.08902604,  1.09319308]])"
      ]
     },
     "execution_count": 8,
     "metadata": {},
     "output_type": "execute_result"
    }
   ],
   "source": [
    "X_test = df.copy(deep=True)\n",
    "X_test.drop(['close_change', 'close'],axis=1, inplace= True)\n",
    "X_test.drop(X_test.index[:-test_part],inplace= True)\n",
    "X_test = StandardScaler().fit_transform(X_test)\n",
    "X_test"
   ]
  },
  {
   "cell_type": "code",
   "execution_count": 9,
   "metadata": {},
   "outputs": [],
   "source": [
    "y_train = df['close_change'][:-test_part]\n",
    "y_test = df['close_change'][-test_part:]"
   ]
  },
  {
   "cell_type": "code",
   "execution_count": 10,
   "metadata": {},
   "outputs": [],
   "source": [
    "tscv = TimeSeriesSplit(n_splits=20)"
   ]
  },
  {
   "cell_type": "code",
   "execution_count": 11,
   "metadata": {},
   "outputs": [],
   "source": [
    "date_list = df.index[-test_part:].to_list()"
   ]
  },
  {
   "cell_type": "code",
   "execution_count": 12,
   "metadata": {},
   "outputs": [],
   "source": [
    "def sell(last_deal, revenue, revenue_list, successful_deals, profit, last_price,df,i, train_part):\n",
    "    last_deal = 1 #продажа\n",
    "    revenue = revenue + (df['close'][train_part + i] - last_price)*1000\n",
    "    revenue_list.append(revenue)\n",
    "    if df['close'][train_part + i] > last_price: #если сделка была успешна\n",
    "        successful_deals +=1\n",
    "        profit = profit+(df['close'][train_part + i] - last_price)*1000\n",
    "    last_price = df['close'][train_part + i]\n",
    "    return last_deal, revenue, revenue_list, successful_deals, profit, last_price"
   ]
  },
  {
   "cell_type": "code",
   "execution_count": 13,
   "metadata": {},
   "outputs": [],
   "source": [
    "def buy(last_deal, revenue, revenue_list, successful_deals, profit, last_price,df, i, train_part):\n",
    "    last_deal = 0\n",
    "    revenue = revenue + (last_price - df['close'][train_part + i]) *1000\n",
    "    revenue_list.append(revenue)\n",
    "    if df['close'][train_part + i] < last_price: #если сделка была успешна\n",
    "        successful_deals +=1\n",
    "        profit = profit + (last_price - df['close'][train_part + i]) *1000 \n",
    "    last_price = df['close'][train_part + i]\n",
    "    return last_deal, revenue, revenue_list, successful_deals, profit, last_price"
   ]
  },
  {
   "cell_type": "code",
   "execution_count": 14,
   "metadata": {},
   "outputs": [],
   "source": [
    "def trade(df, y_pred, train_part, pred_limit=20):\n",
    "    \n",
    "    profit = 0\n",
    "    revenue = 0\n",
    "    successful_deals = 0\n",
    "    deals_overall = 0\n",
    "    actions_list = []\n",
    "    revenue_list = []\n",
    "    last_price = 0\n",
    "    last_deal = 2\n",
    "    \n",
    "    for i in range(len(y_pred[:pred_limit])):\n",
    "        pred = y_pred[i] \n",
    "        if last_deal == 2:  #смотрим на первое предсказание\n",
    "            last_price = df['close_change'][train_part + i]\n",
    "            if pred == 0:  #если ожидаем, что цена пойдет вверх\n",
    "                last_deal = 1  #последняя сделка - покупка\n",
    "            else: \n",
    "                last_deal = 0\n",
    "        if (last_deal == 0 and pred == 0): #если есть чем торговать (последняя -покупка) и ожидаем уменьшения цены\n",
    "            last_deal, revenue, revenue_list, successful_deals, profit, last_price = sell(last_deal, revenue, revenue_list, successful_deals, profit, last_price, df, i,train_part)\n",
    "            actions_list.append(1)\n",
    "            deals_overall +=1\n",
    "            continue\n",
    "        if (last_deal == 1 and pred == 1):\n",
    "            last_deal, revenue, revenue_list, successful_deals, profit, last_price = buy(last_deal, \n",
    "                                                                                         revenue, revenue_list, successful_deals, profit, last_price, df, i, train_part)\n",
    "            deals_overall +=1\n",
    "            actions_list.append(0)\n",
    "            continue\n",
    "        actions_list.append(-1)\n",
    "    return revenue, revenue_list, successful_deals, deals_overall, profit, actions_list"
   ]
  },
  {
   "cell_type": "markdown",
   "metadata": {},
   "source": [
    "## Gradient boosting "
   ]
  },
  {
   "cell_type": "code",
   "execution_count": 15,
   "metadata": {},
   "outputs": [],
   "source": [
    "param_search_GB = {\n",
    "    'loss' : ['lad', 'huber', 'quantile'],\n",
    "    'learning_rate' : [0.5, 0.1, 0.05, 0.01, 0.005],\n",
    "    'n_estimators': [5, 10, 25, 50, 80],\n",
    "    'min_samples_split' : [i for i in range(3,16,4)],\n",
    "    'min_samples_leaf' : [i for i in range(3,16,4)]\n",
    "}"
   ]
  },
  {
   "cell_type": "code",
   "execution_count": 16,
   "metadata": {},
   "outputs": [],
   "source": [
    "model_GB = GradientBoostingRegressor()\n",
    "gsearch_GB = GridSearchCV(estimator=model_GB, cv=tscv, param_grid=param_search_GB, scoring = rmse_score)\n",
    "gsearch_GB.fit(X_train, y_train)\n",
    "best_score_GB = gsearch_GB.best_score_\n",
    "best_model_GB = gsearch_GB.best_estimator_"
   ]
  },
  {
   "cell_type": "code",
   "execution_count": 19,
   "metadata": {},
   "outputs": [
    {
     "name": "stdout",
     "output_type": "stream",
     "text": [
      "explained_variance:  0.0535\n",
      "mean_squared_log_error:  0.115\n",
      "r2:  0.0532\n",
      "MAE:  0.4672\n",
      "MSE:  0.2346\n",
      "RMSE:  0.4844\n"
     ]
    }
   ],
   "source": [
    "y_true_GB = y_test.values\n",
    "y_pred_GB = best_model_GB.predict(X_test)\n",
    "\n",
    "regression_results(y_test, y_pred_GB)"
   ]
  },
  {
   "cell_type": "code",
   "execution_count": 20,
   "metadata": {},
   "outputs": [
    {
     "data": {
      "image/png": "[encoded data removed]",
      "text/plain": [
       "<Figure size 1080x504 with 1 Axes>"
      ]
     },
     "metadata": {
      "needs_background": "light"
     },
     "output_type": "display_data"
    }
   ],
   "source": [
    "plot_result(best_model_GB, df)"
   ]
  },
  {
   "cell_type": "code",
   "execution_count": 21,
   "metadata": {},
   "outputs": [
    {
     "data": {
      "text/plain": [
       "{'alpha': 0.9,\n",
       " 'ccp_alpha': 0.0,\n",
       " 'criterion': 'friedman_mse',\n",
       " 'init': None,\n",
       " 'learning_rate': 0.05,\n",
       " 'loss': 'huber',\n",
       " 'max_depth': 3,\n",
       " 'max_features': None,\n",
       " 'max_leaf_nodes': None,\n",
       " 'min_impurity_decrease': 0.0,\n",
       " 'min_impurity_split': None,\n",
       " 'min_samples_leaf': 3,\n",
       " 'min_samples_split': 15,\n",
       " 'min_weight_fraction_leaf': 0.0,\n",
       " 'n_estimators': 80,\n",
       " 'n_iter_no_change': None,\n",
       " 'presort': 'deprecated',\n",
       " 'random_state': None,\n",
       " 'subsample': 1.0,\n",
       " 'tol': 0.0001,\n",
       " 'validation_fraction': 0.1,\n",
       " 'verbose': 0,\n",
       " 'warm_start': False}"
      ]
     },
     "execution_count": 21,
     "metadata": {},
     "output_type": "execute_result"
    }
   ],
   "source": [
    "best_model_GB.get_params()"
   ]
  },
  {
   "cell_type": "code",
   "execution_count": 22,
   "metadata": {},
   "outputs": [
    {
     "data": {
      "text/plain": [
       "0.25164933125125477"
      ]
     },
     "execution_count": 22,
     "metadata": {},
     "output_type": "execute_result"
    }
   ],
   "source": [
    "best_model_GB.score(X_train, y_train)"
   ]
  },
  {
   "cell_type": "code",
   "execution_count": 24,
   "metadata": {},
   "outputs": [],
   "source": [
    "y_pred_binary_GB = [0]\n",
    "for i in range(1, len(y_pred_GB)):\n",
    "    if y_pred_GB[i] > y_pred_GB[i - 1]:\n",
    "        y_pred_binary_GB.append(1)\n",
    "    else:       \n",
    "        y_pred_binary_GB.append(0)"
   ]
  },
  {
   "cell_type": "code",
   "execution_count": 25,
   "metadata": {},
   "outputs": [],
   "source": [
    "pred_limit = 200\n",
    "revenue, revenue_list, successful_deals, deals_overall, profit, actions_list = trade(df, y_pred_binary_GB, train_part, pred_limit)"
   ]
  },
  {
   "cell_type": "code",
   "execution_count": 27,
   "metadata": {},
   "outputs": [
    {
     "name": "stdout",
     "output_type": "stream",
     "text": [
      "revenue -1156.609999999999 ;\tprofit 277.12000000000035\n",
      "successful deals 47 ;\toveral dealls: 118\n",
      "% succsess 39.83050847457627\n",
      "traiding days 200\n"
     ]
    }
   ],
   "source": [
    "print(\"revenue\", revenue,\";\\tprofit\", profit)\n",
    "print(\"successful deals\", successful_deals, \";\\toveral dealls:\", deals_overall)\n",
    "print(\"% succsess\", successful_deals*100/deals_overall)\n",
    "print(\"traiding days\", len(y_pred_GB[:pred_limit]))"
   ]
  },
  {
   "cell_type": "markdown",
   "metadata": {},
   "source": [
    "## Random Forest"
   ]
  },
  {
   "cell_type": "code",
   "execution_count": 28,
   "metadata": {},
   "outputs": [],
   "source": [
    "from sklearn.ensemble import RandomForestRegressor\n",
    "from sklearn.metrics import r2_score\n",
    "from sklearn.model_selection import KFold, cross_val_score"
   ]
  },
  {
   "cell_type": "code",
   "execution_count": 29,
   "metadata": {},
   "outputs": [],
   "source": [
    "param_search = { \n",
    "    'n_estimators': [5,10, 25, 50, 75, 100],\n",
    "    'max_features': ['auto', 'sqrt', 'log2'],\n",
    "    'max_depth' : [i for i in range(4,15,2)]\n",
    "}"
   ]
  },
  {
   "cell_type": "code",
   "execution_count": 30,
   "metadata": {},
   "outputs": [],
   "source": [
    "model = RandomForestRegressor()\n",
    "gsearch = GridSearchCV(estimator=model, cv=tscv, param_grid=param_search, scoring = rmse_score)\n",
    "gsearch.fit(X_train, y_train)\n",
    "best_score = gsearch.best_score_\n",
    "best_model = gsearch.best_estimator_"
   ]
  },
  {
   "cell_type": "code",
   "execution_count": 31,
   "metadata": {},
   "outputs": [
    {
     "name": "stdout",
     "output_type": "stream",
     "text": [
      "explained_variance:  0.0415\n",
      "mean_squared_log_error:  0.115\n",
      "r2:  0.035\n",
      "MAE:  0.4789\n",
      "MSE:  0.2391\n",
      "RMSE:  0.489\n"
     ]
    }
   ],
   "source": [
    "y_true = y_test.values\n",
    "y_pred = best_model.predict(X_test)\n",
    "\n",
    "regression_results(y_test, y_pred)"
   ]
  },
  {
   "cell_type": "code",
   "execution_count": 32,
   "metadata": {},
   "outputs": [
    {
     "data": {
      "image/png": "[encoded data removed]",
      "text/plain": [
       "<Figure size 1080x504 with 1 Axes>"
      ]
     },
     "metadata": {
      "needs_background": "light"
     },
     "output_type": "display_data"
    }
   ],
   "source": [
    "plot_result(best_model, df)"
   ]
  },
  {
   "cell_type": "code",
   "execution_count": 33,
   "metadata": {},
   "outputs": [
    {
     "data": {
      "text/plain": [
       "{'bootstrap': True,\n",
       " 'ccp_alpha': 0.0,\n",
       " 'criterion': 'mse',\n",
       " 'max_depth': 4,\n",
       " 'max_features': 'auto',\n",
       " 'max_leaf_nodes': None,\n",
       " 'max_samples': None,\n",
       " 'min_impurity_decrease': 0.0,\n",
       " 'min_impurity_split': None,\n",
       " 'min_samples_leaf': 1,\n",
       " 'min_samples_split': 2,\n",
       " 'min_weight_fraction_leaf': 0.0,\n",
       " 'n_estimators': 75,\n",
       " 'n_jobs': None,\n",
       " 'oob_score': False,\n",
       " 'random_state': None,\n",
       " 'verbose': 0,\n",
       " 'warm_start': False}"
      ]
     },
     "execution_count": 33,
     "metadata": {},
     "output_type": "execute_result"
    }
   ],
   "source": [
    "best_model.get_params()"
   ]
  },
  {
   "cell_type": "code",
   "execution_count": 34,
   "metadata": {},
   "outputs": [
    {
     "data": {
      "text/plain": [
       "0.16016318366154336"
      ]
     },
     "execution_count": 34,
     "metadata": {},
     "output_type": "execute_result"
    }
   ],
   "source": [
    "best_model.score(X_train, y_train)"
   ]
  },
  {
   "cell_type": "code",
   "execution_count": 35,
   "metadata": {},
   "outputs": [],
   "source": [
    "y_pred_binary = [0]\n",
    "for i in range(1, len(y_pred)):\n",
    "    if y_pred[i] > y_pred[i - 1]:\n",
    "        y_pred_binary.append(1)\n",
    "    else:       \n",
    "        y_pred_binary.append(0)"
   ]
  },
  {
   "cell_type": "code",
   "execution_count": 36,
   "metadata": {},
   "outputs": [],
   "source": [
    "pred_limit = 200\n",
    "revenue, revenue_list, successful_deals, deals_overall, profit, actions_list = trade(df, y_pred_binary, train_part, pred_limit)"
   ]
  },
  {
   "cell_type": "code",
   "execution_count": 37,
   "metadata": {},
   "outputs": [
    {
     "name": "stdout",
     "output_type": "stream",
     "text": [
      "revenue -1231.209999999998 ;\tprofit 223.480000000001\n",
      "successful deals 45 ;\toveral dealls: 120\n",
      "% succsess 37.5\n",
      "traiding days 200\n"
     ]
    }
   ],
   "source": [
    "print(\"revenue\", revenue,\";\\tprofit\", profit)\n",
    "print(\"successful deals\", successful_deals, \";\\toveral dealls:\", deals_overall)\n",
    "print(\"% succsess\", successful_deals*100/deals_overall)\n",
    "print(\"traiding days\", len(y_pred[:pred_limit]))"
   ]
  },
  {
   "cell_type": "code",
   "execution_count": null,
   "metadata": {},
   "outputs": [],
   "source": []
  }
 ],
 "metadata": {
  "kernelspec": {
   "display_name": "Python 3",
   "language": "python",
   "name": "python3"
  },
  "language_info": {
   "codemirror_mode": {
    "name": "ipython",
    "version": 3
   },
   "file_extension": ".py",
   "mimetype": "text/x-python",
   "name": "python",
   "nbconvert_exporter": "python",
   "pygments_lexer": "ipython3",
   "version": "3.8.5"
  }
 },
 "nbformat": 4,
 "nbformat_minor": 4
}
